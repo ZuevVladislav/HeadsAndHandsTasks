{
 "cells": [
  {
   "cell_type": "code",
   "execution_count": 53,
   "metadata": {},
   "outputs": [],
   "source": [
    "import random"
   ]
  },
  {
   "cell_type": "code",
   "execution_count": 54,
   "metadata": {},
   "outputs": [],
   "source": [
    "def generate_different_random_nums(nums_count, min_num = 0, max_num = 1000, nums_positive = True):\n",
    "    min_vals_border = min_num if not nums_positive else max(0, min_num)\n",
    "    max_vals_border = max(max_num, min_vals_border)\n",
    "    \n",
    "    if nums_count <= 0 or nums_count > (max_vals_border - min_vals_border + 1):\n",
    "        return\n",
    "    \n",
    "    return random.sample(range(min_vals_border, max_vals_border + 1), nums_count)\n",
    "\n",
    "def generate_random_nums(nums_count, min_num = 0, max_num = 1000):\n",
    "    if nums_count <= 0 or max_num < min_num:\n",
    "        return\n",
    "    return [random.randint(min_num, max_num) for i in range(nums_count)]"
   ]
  },
  {
   "cell_type": "code",
   "execution_count": 55,
   "metadata": {},
   "outputs": [],
   "source": [
    "def target_func(n):\n",
    "    if n <= 0:\n",
    "        return\n",
    "    \n",
    "    min_arr_size = 1\n",
    "    max_arr_size = 100\n",
    "    max_arr_size = max(max_arr_size, min_arr_size + n)\n",
    "    min_num_val = -10**6\n",
    "    max_num_val = 10**6\n",
    "    \n",
    "    arr_sizes = generate_different_random_nums(n, min_num = min_arr_size, max_num = max_arr_size)\n",
    "    if not arr_sizes:\n",
    "        return\n",
    "    res_arrs = [generate_random_nums(arr_size, min_num = min_num_val,\n",
    "                                     max_num = max_num_val) for arr_size in arr_sizes]\n",
    "    for i in range(n):\n",
    "        res_arrs[i].sort(reverse = not (i % 2 == 0))\n",
    "        \n",
    "    return res_arrs"
   ]
  },
  {
   "cell_type": "code",
   "execution_count": null,
   "metadata": {},
   "outputs": [],
   "source": []
  },
  {
   "cell_type": "code",
   "execution_count": 56,
   "metadata": {},
   "outputs": [],
   "source": [
    "# check incorrect parameter n\n",
    "for i in range(-100, 1):\n",
    "    assert not target_func(i)"
   ]
  },
  {
   "cell_type": "code",
   "execution_count": 57,
   "metadata": {},
   "outputs": [
    {
     "name": "stdout",
     "output_type": "stream",
     "text": [
      "[[-968628, -901319, -883121, -849680, -767687, -737940, -706523, -687545, -682126, -638303, -621020, -615135, -534142, -530245, -494832, -489546, -467295, -369986, -355464, -285908, -276142, -241662, -234041, -148177, -58921, -21980, 22727, 74985, 76207, 96724, 117214, 126101, 164642, 287708, 301545, 303481, 311108, 315326, 328929, 401597, 405448, 546721, 576474, 599714, 623410, 712667, 758973, 814296, 860542, 884205, 887094, 952273]]\n"
     ]
    }
   ],
   "source": [
    "# check border parameter n = 1\n",
    "print(target_func(1))"
   ]
  },
  {
   "cell_type": "code",
   "execution_count": 58,
   "metadata": {},
   "outputs": [
    {
     "name": "stdout",
     "output_type": "stream",
     "text": [
      "[-956973, -910746, -860950, -680646, -677314, -653303, -649582, -626682, -598977, -593036, -531143, -504397, -476050, -467329, -440259, -421895, -408519, -395907, -389219, -382900, -334822, -309219, -290447, -289199, -281578, -260587, -243818, -196812, -190528, -163206, -161620, -136475, -128641, -120496, -105401, -63831, 124113, 196404, 202998, 217750, 299040, 320002, 329762, 334015, 384068, 392705, 408930, 427005, 441652, 538897, 555288, 597854, 613293, 685795, 689922, 705370, 712924, 743420, 855109, 876212, 889566, 952091, 968506, 988296]\n",
      "64\n",
      "[999458, 998482, 985338, 971937, 927022, 889516, 877226, 869440, 858171, 829686, 810680, 800693, 718978, 705047, 683441, 637701, 602875, 560948, 548540, 540577, 503460, 488166, 484026, 444414, 430661, 401224, 272724, 229641, 225640, 174275, 151633, 147327, 124357, 16392, 2358, -7274, -23094, -53483, -54459, -57773, -77509, -129062, -210211, -250828, -331842, -364264, -468962, -489396, -539557, -553138, -577429, -579271, -592739, -595220, -641252, -644628, -667338, -704482, -781472, -802598, -817387, -873066, -875023, -894354, -966383, -987623]\n",
      "66\n",
      "[-974448, -886206, -881264, -863718, -857457, -843328, -796723, -796590, -791775, -784846, -753384, -751870, -733270, -706354, -616722, -597126, -496449, -444297, -421663, -411670, -358998, -349330, -338906, -318247, -284208, -221622, -215290, -215158, -213653, -148004, -88229, -55035, -9268, 4837, 25036, 42261, 85516, 118344, 132013, 162148, 184976, 237267, 281289, 324412, 325675, 330465, 331509, 355061, 384287, 430118, 448188, 496933, 508754, 522354, 526190, 539296, 552751, 560367, 580712, 594421, 643894, 688235, 728916, 761944, 782797, 847547, 876076, 900429, 936995, 962823, 973603, 982382]\n",
      "72\n",
      "[984613, 962295, 958963, 928648, 876537, 857707, 840766, 814188, 797960, 784267, 780004, 734185, 709238, 701777, 675969, 664321, 622703, 612678, 596393, 575650, 531035, 518375, 504263, 457358, 401204, 395106, 354778, 305859, 299865, 269756, 210117, 206961, 206895, 203823, 200159, 181518, 170569, 167845, 151280, 145757, 145555, 84407, 82922, 49473, 42783, 24428, -5814, -11176, -18731, -22708, -25624, -43061, -49328, -65074, -75339, -91495, -106968, -156336, -162665, -166229, -180379, -181863, -184417, -186340, -197666, -220365, -243220, -262035, -284003, -284670, -295743, -309302, -326968, -365637, -378999, -393254, -406167, -415468, -450310, -477702, -527097, -536749, -577159, -594426, -615773, -634372, -728058, -786441, -824692, -905856, -920465, -977500, -981462, -992600]\n",
      "94\n"
     ]
    }
   ],
   "source": [
    "# check visually any valid parameter n\n",
    "res_arrs = target_func(4)\n",
    "for arr in res_arrs:\n",
    "    print(arr)\n",
    "    print(len(arr))"
   ]
  },
  {
   "cell_type": "code",
   "execution_count": 59,
   "metadata": {},
   "outputs": [],
   "source": [
    "# global check\n",
    "\n",
    "for n in range(1, 200):\n",
    "    res_arrs = target_func(n)\n",
    "    # 1) check that arrs are correctly sorted\n",
    "    are_arrs_correctly_sorted = True\n",
    "    for i in range(n):\n",
    "        if i % 2 == 0 and not (all(res_arrs[i][j] <= res_arrs[i][j + 1] for j in range(len(res_arrs[i])-1))):\n",
    "            are_arrs_correctly_sorted = False\n",
    "        elif i % 2 == 1 and not (all(res_arrs[i][j] >= res_arrs[i][j + 1] for j in range(len(res_arrs[i])-1))):\n",
    "            are_arrs_correctly_sorted = False\n",
    "    \n",
    "    # 2) check that arr sizes are different\n",
    "    arr_sizes = [len(arr) for arr in res_arrs]\n",
    "    assert len(arr_sizes) == n\n",
    "    are_arr_sizes_different = len(arr_sizes) == len(set(arr_sizes))\n",
    "    \n",
    "    if not are_arrs_correctly_sorted or not are_arr_sizes_different:\n",
    "        print(\"Error, n = \", n)"
   ]
  },
  {
   "cell_type": "code",
   "execution_count": null,
   "metadata": {},
   "outputs": [],
   "source": []
  },
  {
   "cell_type": "code",
   "execution_count": null,
   "metadata": {},
   "outputs": [],
   "source": []
  }
 ],
 "metadata": {
  "kernelspec": {
   "display_name": "Python 3",
   "language": "python",
   "name": "python3"
  },
  "language_info": {
   "codemirror_mode": {
    "name": "ipython",
    "version": 3
   },
   "file_extension": ".py",
   "mimetype": "text/x-python",
   "name": "python",
   "nbconvert_exporter": "python",
   "pygments_lexer": "ipython3",
   "version": "3.8.5"
  }
 },
 "nbformat": 4,
 "nbformat_minor": 4
}
